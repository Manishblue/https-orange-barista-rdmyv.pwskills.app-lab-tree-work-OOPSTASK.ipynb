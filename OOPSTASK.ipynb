{
 "cells": [
  {
   "cell_type": "code",
   "execution_count": 1,
   "id": "1d405566-f691-466d-8cb6-089633eaa229",
   "metadata": {},
   "outputs": [],
   "source": [
    "# Q1, Create a vehicle class with an init method having instance variables as name_of_vehicle, max_speed\n",
    "# and average_of_vehicle."
   ]
  },
  {
   "cell_type": "code",
   "execution_count": 2,
   "id": "9427849d-551f-4030-b0dd-e826a0711007",
   "metadata": {},
   "outputs": [
    {
     "name": "stdout",
     "output_type": "stream",
     "text": [
      "Car: Max Speed - 200 km/h, Average Speed - 60 km/h\n",
      "Motorcycle: Max Speed - 180 km/h, Average Speed - 40 km/h\n"
     ]
    }
   ],
   "source": [
    "class Vehicle:\n",
    "    def __init__(self, name_of_vehicle, max_speed, average_speed):\n",
    "        self.name_of_vehicle = name_of_vehicle\n",
    "        self.max_speed = max_speed\n",
    "        self.average_speed = average_speed\n",
    "\n",
    "# Example usage:\n",
    "car = Vehicle(\"Car\", 200, 60)\n",
    "motorcycle = Vehicle(\"Motorcycle\", 180, 40)\n",
    "\n",
    "print(f\"{car.name_of_vehicle}: Max Speed - {car.max_speed} km/h, Average Speed - {car.average_speed} km/h\")\n",
    "print(f\"{motorcycle.name_of_vehicle}: Max Speed - {motorcycle.max_speed} km/h, Average Speed - {motorcycle.average_speed} km/h\")"
   ]
  },
  {
   "cell_type": "code",
   "execution_count": 3,
   "id": "5878610e-8c49-47b9-b655-109bb212407f",
   "metadata": {},
   "outputs": [],
   "source": [
    "# Q2. Create a child class car from the vehicle class created in Que 1, which will inherit the vehicle class.\n",
    "# Create a method named seating_capacity which takes capacity as an argument and returns the name of\n",
    "# the vehicle and its seating capacity."
   ]
  },
  {
   "cell_type": "code",
   "execution_count": 4,
   "id": "669c5afd-84e9-4edb-bd23-bd192264d7a0",
   "metadata": {},
   "outputs": [
    {
     "name": "stdout",
     "output_type": "stream",
     "text": [
      "Sedan: Max Speed - 180 km/h, Average Speed - 60 km/h\n",
      "Sedan has a seating capacity of 5 people.\n"
     ]
    }
   ],
   "source": [
    "class Vehicle:\n",
    "    def __init__(self, name_of_vehicle, max_speed, average_speed):\n",
    "        self.name_of_vehicle = name_of_vehicle\n",
    "        self.max_speed = max_speed\n",
    "        self.average_speed = average_speed\n",
    "\n",
    "class Car(Vehicle):\n",
    "    def __init__(self, name_of_vehicle, max_speed, average_speed):\n",
    "        super().__init__(name_of_vehicle, max_speed, average_speed)\n",
    "\n",
    "    def seating_capacity(self, capacity):\n",
    "        return f\"{self.name_of_vehicle} has a seating capacity of {capacity} people.\"\n",
    "\n",
    "# Example usage:\n",
    "car_instance = Car(\"Sedan\", 180, 60)\n",
    "seating_info = car_instance.seating_capacity(5)\n",
    "\n",
    "print(f\"{car_instance.name_of_vehicle}: Max Speed - {car_instance.max_speed} km/h, Average Speed - {car_instance.average_speed} km/h\")\n",
    "print(seating_info)"
   ]
  },
  {
   "cell_type": "code",
   "execution_count": 5,
   "id": "b07e531f-bcf9-4465-b299-d77e766672f0",
   "metadata": {},
   "outputs": [],
   "source": [
    "# Q3. What is multiple inheritance? Write a python code to demonstrate multiple inheritance."
   ]
  },
  {
   "cell_type": "code",
   "execution_count": 6,
   "id": "b60a0a02-47ab-4f06-9830-14b5ad927054",
   "metadata": {},
   "outputs": [
    {
     "name": "stdout",
     "output_type": "stream",
     "text": [
      "Engine started\n",
      "Electric charging\n",
      "Hybrid car is driving\n",
      "Engine stopped\n"
     ]
    }
   ],
   "source": [
    "class Engine:\n",
    "    def start(self):\n",
    "        print(\"Engine started\")\n",
    "\n",
    "    def stop(self):\n",
    "        print(\"Engine stopped\")\n",
    "\n",
    "class Electric:\n",
    "    def charge(self):\n",
    "        print(\"Electric charging\")\n",
    "\n",
    "class HybridCar(Engine, Electric):\n",
    "    def drive(self):\n",
    "        print(\"Hybrid car is driving\")\n",
    "\n",
    "# Create an instance of the HybridCar class\n",
    "hybrid_car = HybridCar()\n",
    "\n",
    "# Call methods from both parent classes and the child class\n",
    "hybrid_car.start()   # Inherited from Engine class\n",
    "hybrid_car.charge()  # Inherited from Electric class\n",
    "hybrid_car.drive()   # Defined in HybridCar class\n",
    "hybrid_car.stop()    # Inherited from Engine class"
   ]
  },
  {
   "cell_type": "code",
   "execution_count": 7,
   "id": "2aa9a260-457e-40a4-a5db-c606561fee75",
   "metadata": {},
   "outputs": [],
   "source": [
    "# Q4. What are getter and setter in python? Create a class and create a getter and a setter method in this\n",
    "# class."
   ]
  },
  {
   "cell_type": "code",
   "execution_count": 8,
   "id": "6553a638-4188-4919-9a89-f91fc80ac2d8",
   "metadata": {},
   "outputs": [
    {
     "name": "stdout",
     "output_type": "stream",
     "text": [
      "Original Name: Alice\n",
      "Original Age: 25\n",
      "Updated Name: Bob\n",
      "Updated Age: 30\n"
     ]
    }
   ],
   "source": [
    "class Person:\n",
    "    def __init__(self, name, age):\n",
    "        self._name = name  # Conventionally, a single leading underscore indicates a protected attribute\n",
    "        self._age = age\n",
    "\n",
    "    # Getter method for 'name'\n",
    "    def get_name(self):\n",
    "        return self._name\n",
    "\n",
    "    # Setter method for 'name'\n",
    "    def set_name(self, new_name):\n",
    "        if isinstance(new_name, str):\n",
    "            self._name = new_name\n",
    "        else:\n",
    "            print(\"Invalid input for name. Please provide a string.\")\n",
    "\n",
    "    # Getter method for 'age'\n",
    "    def get_age(self):\n",
    "        return self._age\n",
    "\n",
    "    # Setter method for 'age'\n",
    "    def set_age(self, new_age):\n",
    "        if isinstance(new_age, int) and new_age >= 0:\n",
    "            self._age = new_age\n",
    "        else:\n",
    "            print(\"Invalid input for age. Please provide a non-negative integer.\")\n",
    "\n",
    "# Example usage:\n",
    "person = Person(\"Alice\", 25)\n",
    "\n",
    "# Using the getter methods\n",
    "print(\"Original Name:\", person.get_name())\n",
    "print(\"Original Age:\", person.get_age())\n",
    "\n",
    "# Using the setter methods\n",
    "person.set_name(\"Bob\")\n",
    "person.set_age(30)\n",
    "\n",
    "# Getting the updated values\n",
    "print(\"Updated Name:\", person.get_name())\n",
    "print(\"Updated Age:\", person.get_age())"
   ]
  },
  {
   "cell_type": "code",
   "execution_count": 9,
   "id": "3274a675-0482-4684-9cbe-3b3851ebd0a7",
   "metadata": {},
   "outputs": [],
   "source": [
    "# Q5.What is method overriding in python? Write a python code to demonstrate method overriding."
   ]
  },
  {
   "cell_type": "code",
   "execution_count": 10,
   "id": "d92d7b1b-3b86-4ddd-b5e6-7d1f813af58f",
   "metadata": {},
   "outputs": [
    {
     "name": "stdout",
     "output_type": "stream",
     "text": [
      "Animal speaks\n",
      "Dog barks\n",
      "Cat meows\n"
     ]
    }
   ],
   "source": [
    "class Animal:\n",
    "    def speak(self):\n",
    "        print(\"Animal speaks\")\n",
    "\n",
    "class Dog(Animal):\n",
    "    def speak(self):\n",
    "        print(\"Dog barks\")\n",
    "\n",
    "class Cat(Animal):\n",
    "    def speak(self):\n",
    "        print(\"Cat meows\")\n",
    "\n",
    "# Example usage:\n",
    "animal = Animal()\n",
    "dog = Dog()\n",
    "cat = Cat()\n",
    "\n",
    "# Calling speak method on instances\n",
    "animal.speak()  # Output: Animal speaks\n",
    "dog.speak()     # Output: Dog barks\n",
    "cat.speak()     # Output: Cat meows"
   ]
  },
  {
   "cell_type": "code",
   "execution_count": null,
   "id": "0be02966-f5ca-4195-8536-ef24883ace21",
   "metadata": {},
   "outputs": [],
   "source": []
  }
 ],
 "metadata": {
  "kernelspec": {
   "display_name": "Python 3 (ipykernel)",
   "language": "python",
   "name": "python3"
  },
  "language_info": {
   "codemirror_mode": {
    "name": "ipython",
    "version": 3
   },
   "file_extension": ".py",
   "mimetype": "text/x-python",
   "name": "python",
   "nbconvert_exporter": "python",
   "pygments_lexer": "ipython3",
   "version": "3.10.8"
  }
 },
 "nbformat": 4,
 "nbformat_minor": 5
}
